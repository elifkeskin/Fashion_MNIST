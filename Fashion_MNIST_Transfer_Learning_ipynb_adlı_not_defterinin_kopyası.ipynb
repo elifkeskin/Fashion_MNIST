{
  "nbformat": 4,
  "nbformat_minor": 0,
  "metadata": {
    "colab": {
      "provenance": []
    },
    "kernelspec": {
      "name": "python3",
      "display_name": "Python 3"
    },
    "language_info": {
      "name": "python"
    }
  },
  "cells": [
    {
      "cell_type": "code",
      "execution_count": 1,
      "metadata": {
        "id": "awV9MvAy6ks9"
      },
      "outputs": [],
      "source": [
        "import tensorflow as tf\n",
        "from tensorflow.keras import layers, models\n",
        "from tensorflow.keras.datasets import fashion_mnist\n",
        "import matplotlib.pyplot as plt"
      ]
    },
    {
      "cell_type": "code",
      "source": [
        "(X_train, y_train), (X_test, y_test) = fashion_mnist.load_data()"
      ],
      "metadata": {
        "id": "EmkjvDmSXNo2",
        "colab": {
          "base_uri": "https://localhost:8080/"
        },
        "outputId": "9201e2f3-74e2-4aa4-8b8d-2192c2b483dc"
      },
      "execution_count": 2,
      "outputs": [
        {
          "output_type": "stream",
          "name": "stdout",
          "text": [
            "Downloading data from https://storage.googleapis.com/tensorflow/tf-keras-datasets/train-labels-idx1-ubyte.gz\n",
            "\u001b[1m29515/29515\u001b[0m \u001b[32m━━━━━━━━━━━━━━━━━━━━\u001b[0m\u001b[37m\u001b[0m \u001b[1m0s\u001b[0m 0us/step\n",
            "Downloading data from https://storage.googleapis.com/tensorflow/tf-keras-datasets/train-images-idx3-ubyte.gz\n",
            "\u001b[1m26421880/26421880\u001b[0m \u001b[32m━━━━━━━━━━━━━━━━━━━━\u001b[0m\u001b[37m\u001b[0m \u001b[1m0s\u001b[0m 0us/step\n",
            "Downloading data from https://storage.googleapis.com/tensorflow/tf-keras-datasets/t10k-labels-idx1-ubyte.gz\n",
            "\u001b[1m5148/5148\u001b[0m \u001b[32m━━━━━━━━━━━━━━━━━━━━\u001b[0m\u001b[37m\u001b[0m \u001b[1m0s\u001b[0m 1us/step\n",
            "Downloading data from https://storage.googleapis.com/tensorflow/tf-keras-datasets/t10k-images-idx3-ubyte.gz\n",
            "\u001b[1m4422102/4422102\u001b[0m \u001b[32m━━━━━━━━━━━━━━━━━━━━\u001b[0m\u001b[37m\u001b[0m \u001b[1m0s\u001b[0m 0us/step\n"
          ]
        }
      ]
    },
    {
      "cell_type": "markdown",
      "source": [
        "## **Normalization**"
      ],
      "metadata": {
        "id": "MP6b6TbU9mwB"
      }
    },
    {
      "cell_type": "code",
      "source": [
        "# We normalize the dataset between 0 and 1 by dividing the image pixels by 255.\n",
        "\n",
        "X_train = X_train / 255.0\n",
        "X_test  = X_test  / 255.0"
      ],
      "metadata": {
        "id": "7qF5BNdBZx8e"
      },
      "execution_count": 3,
      "outputs": []
    },
    {
      "cell_type": "markdown",
      "source": [
        "## **MODEL**"
      ],
      "metadata": {
        "id": "LJmnV7CPK9HT"
      }
    },
    {
      "cell_type": "markdown",
      "source": [
        "### **a) Creating a Model**"
      ],
      "metadata": {
        "id": "ocxTJvxS9rJs"
      }
    },
    {
      "cell_type": "code",
      "source": [
        "\n",
        "# Softmax Activation Function: It will return the probability of each class to us.(10 classes.)\n",
        "\n",
        "model = models.Sequential([\n",
        "    layers.Flatten(input_shape=(28,28)),      # Flatten() => It is a flattening layer. It converts each image into a one-dimensional vector.\n",
        "    layers.Dense(128, activation='relu'),     # Using the Relu Activation Function, we make negative inputs 0; we can use positive inputs as is.\n",
        "    layers.Dense(10, activation = 'softmax')  # Since we have 10 classes, we say we want to get 10 output.\n",
        "\n",
        "])"
      ],
      "metadata": {
        "id": "z3kcPCOIeRCF",
        "colab": {
          "base_uri": "https://localhost:8080/"
        },
        "outputId": "864fd799-bcb0-484b-d703-bc3c5e1dd13e"
      },
      "execution_count": 4,
      "outputs": [
        {
          "output_type": "stream",
          "name": "stderr",
          "text": [
            "/usr/local/lib/python3.10/dist-packages/keras/src/layers/reshaping/flatten.py:37: UserWarning: Do not pass an `input_shape`/`input_dim` argument to a layer. When using Sequential models, prefer using an `Input(shape)` object as the first layer in the model instead.\n",
            "  super().__init__(**kwargs)\n"
          ]
        }
      ]
    },
    {
      "cell_type": "markdown",
      "source": [
        "### **b) Model Compilation**"
      ],
      "metadata": {
        "id": "Ay9c3wFuFGus"
      }
    },
    {
      "cell_type": "code",
      "source": [
        "\n",
        "# Since we want to classify 10 different types of clothes and we want to see the labels in integer format from 0-9,\n",
        "# we use the 'sparse_categorical_cross_entropy' loss function.\n",
        "\n",
        "model.compile(optimizer=\"adam\",\n",
        "              loss = \"sparse_categorical_crossentropy\",\n",
        "              metrics = [\"accuracy\"])\n"
      ],
      "metadata": {
        "id": "YRqGJa3kEzo-"
      },
      "execution_count": 5,
      "outputs": []
    },
    {
      "cell_type": "markdown",
      "source": [
        "### **c) Model Training**"
      ],
      "metadata": {
        "id": "o9W98MQNK_tM"
      }
    },
    {
      "cell_type": "code",
      "source": [
        "history =  model.fit(X_train, y_train, epochs=5, batch_size=32,  validation_data=(X_test, y_test))"
      ],
      "metadata": {
        "colab": {
          "base_uri": "https://localhost:8080/"
        },
        "id": "mXhonG-aKuMt",
        "outputId": "7be4e994-ee70-4354-abce-6e20e8c77b00"
      },
      "execution_count": 6,
      "outputs": [
        {
          "output_type": "stream",
          "name": "stdout",
          "text": [
            "Epoch 1/5\n",
            "\u001b[1m1875/1875\u001b[0m \u001b[32m━━━━━━━━━━━━━━━━━━━━\u001b[0m\u001b[37m\u001b[0m \u001b[1m13s\u001b[0m 6ms/step - accuracy: 0.7790 - loss: 0.6376 - val_accuracy: 0.8384 - val_loss: 0.4463\n",
            "Epoch 2/5\n",
            "\u001b[1m1875/1875\u001b[0m \u001b[32m━━━━━━━━━━━━━━━━━━━━\u001b[0m\u001b[37m\u001b[0m \u001b[1m8s\u001b[0m 4ms/step - accuracy: 0.8626 - loss: 0.3813 - val_accuracy: 0.8635 - val_loss: 0.3788\n",
            "Epoch 3/5\n",
            "\u001b[1m1875/1875\u001b[0m \u001b[32m━━━━━━━━━━━━━━━━━━━━\u001b[0m\u001b[37m\u001b[0m \u001b[1m8s\u001b[0m 4ms/step - accuracy: 0.8738 - loss: 0.3428 - val_accuracy: 0.8677 - val_loss: 0.3759\n",
            "Epoch 4/5\n",
            "\u001b[1m1875/1875\u001b[0m \u001b[32m━━━━━━━━━━━━━━━━━━━━\u001b[0m\u001b[37m\u001b[0m \u001b[1m8s\u001b[0m 3ms/step - accuracy: 0.8860 - loss: 0.3123 - val_accuracy: 0.8703 - val_loss: 0.3621\n",
            "Epoch 5/5\n",
            "\u001b[1m1875/1875\u001b[0m \u001b[32m━━━━━━━━━━━━━━━━━━━━\u001b[0m\u001b[37m\u001b[0m \u001b[1m10s\u001b[0m 3ms/step - accuracy: 0.8909 - loss: 0.2967 - val_accuracy: 0.8713 - val_loss: 0.3515\n"
          ]
        }
      ]
    },
    {
      "cell_type": "markdown",
      "source": [
        "## **Model Evaluation & Visualization**"
      ],
      "metadata": {
        "id": "JguHHmvPV2Px"
      }
    },
    {
      "cell_type": "code",
      "source": [
        "# Visualization\n",
        "\n",
        "plt.plot(history.history['accuracy'], label='Training Accuracy')\n",
        "\n",
        "# val-acc grafiği\n",
        "plt.plot(history.history['val_accuracy'], label='Validation Accuracy' )\n",
        "plt.xlabel('Epochs')\n",
        "plt.ylabel('Accuracy')\n",
        "plt.legend()\n",
        "plt.show()"
      ],
      "metadata": {
        "colab": {
          "base_uri": "https://localhost:8080/",
          "height": 449
        },
        "id": "G8NG17tgT6ac",
        "outputId": "cb0941ec-a708-44ba-fd30-68d0d70c9605"
      },
      "execution_count": 7,
      "outputs": [
        {
          "output_type": "display_data",
          "data": {
            "text/plain": [
              "<Figure size 640x480 with 1 Axes>"
            ],
            "image/png": "[encoded data removed]"
          },
          "metadata": {}
        }
      ]
    },
    {
      "cell_type": "markdown",
      "source": [
        "**COMMENTS:**\n",
        "\n",
        "* **Accuracy**: It expresses training accuracy. It shows the success of the model on the training data.\n",
        "\n",
        "* **Validation_Accuracy:** It expresses validation accuracy. It shows the success of the model on the test set.\n",
        "\n",
        "* If the accuracy score increases while your validation score decreases, we can say that this is a sign of overfitting.\n",
        "\n",
        "* If the validation accuracy increases as the training accuracy (val_accuracy) increases, then the model is performing well on both training and test data.\n",
        "\n",
        "* Here, we can talk about overfitting since the training accuracy increases while the verification accuracy remains constant after a certain point.\n",
        "\n"
      ],
      "metadata": {
        "id": "-joRFN9yTLOi"
      }
    }
  ]
}